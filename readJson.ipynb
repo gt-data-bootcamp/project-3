{
 "cells": [
  {
   "cell_type": "code",
   "execution_count": 1,
   "id": "induced-workplace",
   "metadata": {},
   "outputs": [],
   "source": [
    "# Import Various libraries\n",
    "import sqlite3 \n",
    "import requests\n"
   ]
  },
  {
   "cell_type": "code",
   "execution_count": 2,
   "id": "centered-quarterly",
   "metadata": {},
   "outputs": [],
   "source": [
    "# Establish sqllite3 connectivity\n",
    "\n",
    "conn = sqlite3.connect('crypto_vspr.db')\n",
    "c = conn.cursor()\n"
   ]
  },
  {
   "cell_type": "code",
   "execution_count": 3,
   "id": "worth-campus",
   "metadata": {},
   "outputs": [
    {
     "data": {
      "text/plain": [
       "<sqlite3.Cursor at 0x24480de93b0>"
      ]
     },
     "execution_count": 3,
     "metadata": {},
     "output_type": "execute_result"
    }
   ],
   "source": [
    "#Drop Tables\n",
    "c.execute (\"DROP Table coins\")\n",
    "c.execute (\"DROP Table currency\")\n",
    "c.execute (\"DROP Table Tbl\")\n"
   ]
  },
  {
   "cell_type": "code",
   "execution_count": 4,
   "id": "disciplinary-delta",
   "metadata": {},
   "outputs": [
    {
     "data": {
      "text/plain": [
       "<sqlite3.Cursor at 0x24480de93b0>"
      ]
     },
     "execution_count": 4,
     "metadata": {},
     "output_type": "execute_result"
    }
   ],
   "source": [
    "#create coins table\n",
    "c.execute(\"CREATE TABLE coins (id integer, asset_id varchar(6) )\")"
   ]
  },
  {
   "cell_type": "code",
   "execution_count": 5,
   "id": "requested-excuse",
   "metadata": {},
   "outputs": [
    {
     "data": {
      "text/plain": [
       "<sqlite3.Cursor at 0x24480de93b0>"
      ]
     },
     "execution_count": 5,
     "metadata": {},
     "output_type": "execute_result"
    }
   ],
   "source": [
    "#create CURRENCY table\n",
    "c.execute(\"CREATE TABLE currency (id integer, cur_id varchar(6) )\")"
   ]
  },
  {
   "cell_type": "code",
   "execution_count": 6,
   "id": "psychological-health",
   "metadata": {},
   "outputs": [
    {
     "data": {
      "text/plain": [
       "<sqlite3.Cursor at 0x24480de93b0>"
      ]
     },
     "execution_count": 6,
     "metadata": {},
     "output_type": "execute_result"
    }
   ],
   "source": [
    "#create Transactions table\n",
    "c.execute(\"CREATE TABLE tbl  (id integer, coin_id integer, cur_id integer, time_period_start datetime ,time_period_end datetime,time_open datetime, time_close datetime, rate_open double, rate_high double, rate_low double, rate_close double)\")"
   ]
  },
  {
   "cell_type": "code",
   "execution_count": 7,
   "id": "floating-utilization",
   "metadata": {},
   "outputs": [
    {
     "data": {
      "text/plain": [
       "<sqlite3.Cursor at 0x24480de93b0>"
      ]
     },
     "execution_count": 7,
     "metadata": {},
     "output_type": "execute_result"
    }
   ],
   "source": [
    "# Insert into Coins Table\n",
    "c.execute(\"insert into coins values (?, ?)\", [1, 'BTC'] )\n",
    "c.execute(\"insert into coins values (?, ?)\", [2, 'ETH'] )\n",
    "c.execute(\"insert into coins values (?, ?)\", [3, 'DOGE'] )"
   ]
  },
  {
   "cell_type": "code",
   "execution_count": 8,
   "id": "medieval-lancaster",
   "metadata": {},
   "outputs": [
    {
     "data": {
      "text/plain": [
       "<sqlite3.Cursor at 0x24480de93b0>"
      ]
     },
     "execution_count": 8,
     "metadata": {},
     "output_type": "execute_result"
    }
   ],
   "source": [
    "# Insert into Currency Table\n",
    "c.execute(\"insert into currency values (?, ?)\", [1, 'USD'] )\n"
   ]
  },
  {
   "cell_type": "code",
   "execution_count": 10,
   "id": "automatic-calgary",
   "metadata": {},
   "outputs": [
    {
     "name": "stdout",
     "output_type": "stream",
     "text": [
      "<Response [200]>\n"
     ]
    }
   ],
   "source": [
    "# Pull data from URL and construct JSON File\n",
    "btc_usd  = requests.get('https://rest.coinapi.io/v1/exchangerate/BTC/USD/history?period_id=1MIN&time_start=2016-01-01T00:00:00&time_end=2021-02-01T00:00:00&apikey=A22E7C24-3E76-41F6-867B-67724415A21D')\n",
    "\n",
    "print(btc_usd)\n",
    "# Loop thru data and insert records into Transactions Table"
   ]
  },
  {
   "cell_type": "code",
   "execution_count": 11,
   "id": "interior-state",
   "metadata": {},
   "outputs": [],
   "source": [
    "#dogeJson = doge_data.json()\n",
    "#print(dogeJson)\n",
    "\n",
    "btcJson = btc_usd.json()"
   ]
  },
  {
   "cell_type": "code",
   "execution_count": 12,
   "id": "powered-motion",
   "metadata": {},
   "outputs": [],
   "source": [
    "# Reads thru dogeJson object and loads data into \"Tbl table\" of \"SQLite DB\" .\n",
    "x = 1\n",
    "coinid = 'BTC'\n",
    "currency = 'USD'\n",
    "for dicts in btcJson:\n",
    "    tps = dicts.get('time_period_start')\n",
    "    tpe = dicts.get('time_period_end')\n",
    "    to = dicts.get('time_open')\n",
    "    tc = dicts.get('time_close')\n",
    "    ro = dicts.get('rate_open')\n",
    "    rh = dicts.get('rate_high')\n",
    "    rl = dicts.get('rate_low')\n",
    "    rc = dicts.get('rate_close')\n",
    "    c.execute(\"insert into tbl values (?, ?, ?, ?, ?, ?, ?, ?, ?, ? , ?)\", [ x, coinid, currency, tps,tpe,to,tc, ro, rh,rl,rc] )\n",
    "    x = x +1 \n",
    "        \n"
   ]
  },
  {
   "cell_type": "code",
   "execution_count": 13,
   "id": "finite-infection",
   "metadata": {},
   "outputs": [],
   "source": [
    "#commit and Close session\n",
    "\n",
    "conn.commit()\n",
    "conn.close()"
   ]
  },
  {
   "cell_type": "code",
   "execution_count": 162,
   "id": "chinese-richmond",
   "metadata": {},
   "outputs": [],
   "source": [
    "btc_usd  = requests.get('https://rest.coinapi.io/v1/exchangerate/BTC/USD/history?period_id=1MIN&time_start=2016-01-01T00:00:00&time_end=2021-02-01T00:00:00')"
   ]
  },
  {
   "cell_type": "code",
   "execution_count": null,
   "id": "numeric-intellectual",
   "metadata": {},
   "outputs": [],
   "source": []
  }
 ],
 "metadata": {
  "kernelspec": {
   "display_name": "Python [conda env:pyp3] *",
   "language": "python",
   "name": "conda-env-pyp3-py"
  },
  "language_info": {
   "codemirror_mode": {
    "name": "ipython",
    "version": 3
   },
   "file_extension": ".py",
   "mimetype": "text/x-python",
   "name": "python",
   "nbconvert_exporter": "python",
   "pygments_lexer": "ipython3",
   "version": "3.6.13"
  }
 },
 "nbformat": 4,
 "nbformat_minor": 5
}
