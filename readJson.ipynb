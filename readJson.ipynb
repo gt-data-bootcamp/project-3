{
 "cells": [
  {
   "cell_type": "code",
   "execution_count": 96,
   "id": "induced-workplace",
   "metadata": {},
   "outputs": [],
   "source": [
    "# Import Various libraries\n",
    "import sqlite3 \n",
    "import requests\n"
   ]
  },
  {
   "cell_type": "code",
   "execution_count": 97,
   "id": "centered-quarterly",
   "metadata": {},
   "outputs": [],
   "source": [
    "# Establish sqllite3 connectivity\n",
    "\n",
    "conn = sqlite3.connect('Crypto.db')\n",
    "c = conn.cursor()\n"
   ]
  },
  {
   "cell_type": "code",
   "execution_count": 98,
   "id": "worth-campus",
   "metadata": {},
   "outputs": [
    {
     "output_type": "execute_result",
     "data": {
      "text/plain": [
       "<sqlite3.Cursor at 0x27d6452fd50>"
      ]
     },
     "metadata": {},
     "execution_count": 98
    }
   ],
   "source": [
    "#Drop Tables\n",
    "c.execute (\"DROP Table coins\")\n",
    "c.execute (\"DROP Table currency\")\n",
    "c.execute (\"DROP Table Tbl\")\n"
   ]
  },
  {
   "cell_type": "code",
   "execution_count": 99,
   "id": "disciplinary-delta",
   "metadata": {},
   "outputs": [
    {
     "output_type": "execute_result",
     "data": {
      "text/plain": [
       "<sqlite3.Cursor at 0x27d6452fd50>"
      ]
     },
     "metadata": {},
     "execution_count": 99
    }
   ],
   "source": [
    "#create coins table\n",
    "c.execute(\"CREATE TABLE coins (id integer, asset_id varchar(6) )\")"
   ]
  },
  {
   "cell_type": "code",
   "execution_count": 100,
   "id": "requested-excuse",
   "metadata": {},
   "outputs": [
    {
     "output_type": "execute_result",
     "data": {
      "text/plain": [
       "<sqlite3.Cursor at 0x27d6452fd50>"
      ]
     },
     "metadata": {},
     "execution_count": 100
    }
   ],
   "source": [
    "#create CURRENCY table\n",
    "c.execute(\"CREATE TABLE currency (id integer, cur_id varchar(6) )\")"
   ]
  },
  {
   "cell_type": "code",
   "execution_count": 101,
   "id": "psychological-health",
   "metadata": {},
   "outputs": [
    {
     "output_type": "execute_result",
     "data": {
      "text/plain": [
       "<sqlite3.Cursor at 0x27d6452fd50>"
      ]
     },
     "metadata": {},
     "execution_count": 101
    }
   ],
   "source": [
    "#create Transactions table\n",
    "c.execute(\"CREATE TABLE tbl  (id integer, coin_id integer, cur_id integer, time_period_start datetime ,time_period_end datetime,time_open datetime, time_close datetime, rate_open double, rate_high double, rate_low double, rate_close double)\")"
   ]
  },
  {
   "cell_type": "code",
   "execution_count": 102,
   "id": "floating-utilization",
   "metadata": {},
   "outputs": [
    {
     "output_type": "execute_result",
     "data": {
      "text/plain": [
       "<sqlite3.Cursor at 0x27d6452fd50>"
      ]
     },
     "metadata": {},
     "execution_count": 102
    }
   ],
   "source": [
    "# Insert into Coins Table\n",
    "c.execute(\"insert into coins values (?, ?)\", [1, 'BTC'] )\n",
    "c.execute(\"insert into coins values (?, ?)\", [2, 'ETH'] )\n",
    "c.execute(\"insert into coins values (?, ?)\", [3, 'LTC'] )"
   ]
  },
  {
   "cell_type": "code",
   "execution_count": 103,
   "id": "medieval-lancaster",
   "metadata": {},
   "outputs": [
    {
     "output_type": "execute_result",
     "data": {
      "text/plain": [
       "<sqlite3.Cursor at 0x27d6452fd50>"
      ]
     },
     "metadata": {},
     "execution_count": 103
    }
   ],
   "source": [
    "# Insert into Currency Table\n",
    "c.execute(\"insert into currency values (?, ?)\", [1, 'USD'] )\n"
   ]
  },
  {
   "cell_type": "code",
   "execution_count": 104,
   "id": "automatic-calgary",
   "metadata": {},
   "outputs": [],
   "source": [
    "# Pull data from URL and construct JSON File\n",
    "btc_usd  = requests.get('https://rest.coinapi.io/v1/exchangerate/BTC/USD/history?period_id=1DAY&time_start=2016-01-01T00:00:00&time_end=2021-06-08T00:00:00&limit=2000&apikey=8512D580-8FF8-4ECC-8A21-2017136C2016')\n",
    "eth_usd  = requests.get('https://rest.coinapi.io/v1/exchangerate/ETH/USD/history?period_id=1DAY&time_start=2016-01-01T00:00:00&time_end=2021-06-08T00:00:00&limit=2000&apikey=8512D580-8FF8-4ECC-8A21-2017136C2016')\n",
    "ltc_usd  = requests.get('https://rest.coinapi.io/v1/exchangerate/LTC/USD/history?period_id=1DAY&time_start=2016-01-01T00:00:00&time_end=2021-06-08T00:00:00&limit=2000&apikey=8512D580-8FF8-4ECC-8A21-2017136C2016')\n",
    "\n",
    "\n",
    "# Loop thru data and insert records into Transactions Table"
   ]
  },
  {
   "cell_type": "code",
   "execution_count": 105,
   "id": "interior-state",
   "metadata": {},
   "outputs": [],
   "source": [
    "#dogeJson = doge_data.json()\n",
    "#print(dogeJson)\n",
    "btcJson = btc_usd.json()\n",
    "ethJson = eth_usd.json()\n",
    "ltcJson = ltc_usd.json()"
   ]
  },
  {
   "cell_type": "code",
   "execution_count": 106,
   "id": "powered-motion",
   "metadata": {},
   "outputs": [],
   "source": [
    "# Reads thru dogeJson object and loads data into \"Tbl table\" of \"SQLite DB\" .\n",
    "x = 1\n",
    "coinid = 'BTC'\n",
    "currency = 'USD'\n",
    "for dicts in btcJson:\n",
    "    tps = dicts.get('time_period_start')\n",
    "    tpe = dicts.get('time_period_end')\n",
    "    to = dicts.get('time_open')\n",
    "    tc = dicts.get('time_close')\n",
    "    ro = dicts.get('rate_open')\n",
    "    rh = dicts.get('rate_high')\n",
    "    rl = dicts.get('rate_low')\n",
    "    rc = dicts.get('rate_close')\n",
    "    c.execute(\"insert into tbl values (?, ?, ?, ?, ?, ?, ?, ?, ?, ? , ?)\", [ x, coinid, currency, tps,tpe,to,tc, ro, rh,rl,rc] )\n",
    "    x = x +1 \n",
    "        \n"
   ]
  },
  {
   "cell_type": "code",
   "execution_count": 107,
   "metadata": {},
   "outputs": [],
   "source": [
    "x = 1\n",
    "coinid = 'ETH'\n",
    "currency = 'USD'\n",
    "for dicts in ethJson:\n",
    "    tps = dicts.get('time_period_start')\n",
    "    tpe = dicts.get('time_period_end')\n",
    "    to = dicts.get('time_open')\n",
    "    tc = dicts.get('time_close')\n",
    "    ro = dicts.get('rate_open')\n",
    "    rh = dicts.get('rate_high')\n",
    "    rl = dicts.get('rate_low')\n",
    "    rc = dicts.get('rate_close')\n",
    "    c.execute(\"insert into tbl values (?, ?, ?, ?, ?, ?, ?, ?, ?, ? , ?)\", [ x, coinid, currency, tps,tpe,to,tc, ro, rh,rl,rc] )\n",
    "    x = x +1 "
   ]
  },
  {
   "cell_type": "code",
   "execution_count": 108,
   "metadata": {},
   "outputs": [],
   "source": [
    "x = 1\n",
    "coinid = 'LTC'\n",
    "currency = 'USD'\n",
    "for dicts in ltcJson:\n",
    "    tps = dicts.get('time_period_start')\n",
    "    tpe = dicts.get('time_period_end')\n",
    "    to = dicts.get('time_open')\n",
    "    tc = dicts.get('time_close')\n",
    "    ro = dicts.get('rate_open')\n",
    "    rh = dicts.get('rate_high')\n",
    "    rl = dicts.get('rate_low')\n",
    "    rc = dicts.get('rate_close')\n",
    "    c.execute(\"insert into tbl values (?, ?, ?, ?, ?, ?, ?, ?, ?, ? , ?)\", [ x, coinid, currency, tps,tpe,to,tc, ro, rh,rl,rc] )\n",
    "    x = x +1 "
   ]
  },
  {
   "cell_type": "code",
   "execution_count": 109,
   "id": "finite-infection",
   "metadata": {},
   "outputs": [],
   "source": [
    "#commit and Close session\n",
    "\n",
    "conn.commit()\n",
    "conn.close()"
   ]
  },
  {
   "cell_type": "code",
   "execution_count": null,
   "id": "numeric-intellectual",
   "metadata": {},
   "outputs": [],
   "source": []
  }
 ],
 "metadata": {
  "kernelspec": {
   "name": "python3610jvsc74a57bd07da643e1c08cbb5a341ea073830db580c9ae3fcca6b55cf0884e40a1ad122314",
   "display_name": "Python 3.6.10 64-bit ('PythonData': conda)"
  },
  "language_info": {
   "codemirror_mode": {
    "name": "ipython",
    "version": 3
   },
   "file_extension": ".py",
   "mimetype": "text/x-python",
   "name": "python",
   "nbconvert_exporter": "python",
   "pygments_lexer": "ipython3",
   "version": "3.6.10"
  }
 },
 "nbformat": 4,
 "nbformat_minor": 5
}